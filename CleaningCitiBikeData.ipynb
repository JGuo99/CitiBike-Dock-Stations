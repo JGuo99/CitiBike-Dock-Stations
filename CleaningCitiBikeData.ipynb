{
 "cells": [
  {
   "cell_type": "code",
   "execution_count": 63,
   "id": "fb1c9fcf",
   "metadata": {},
   "outputs": [],
   "source": [
    "import pandas as pd\n",
    "import numpy as np\n",
    "import seaborn as sns\n",
    "import os\n",
    "import urllib\n",
    "import urllib.request\n",
    "import sys\n",
    "from matplotlib import pyplot as plt\n",
    "%matplotlib inline\n",
    "import warnings\n",
    "warnings.filterwarnings('ignore')\n",
    "import glob #Unix style pathname pattern expansion\n",
    "from dateutil import parser #powerful extensions to datetime; offers a generic date/time string parser\n",
    "import time\n",
    "from tqdm import tqdm #Customisable progressbar for iterators\n",
    "try: #spelling depends on enviroment version \n",
    "    import urllib2 as urllib #URL handling module\n",
    "except ImportError:\n",
    "    import urllib.request as urllib\n",
    "import json\n",
    "import geopandas as gpd\n",
    "from IPython.display import clear_output #Clears the output of the current cell receiving output\n",
    "import requests #the module for making HTTP requests in Python; provides GET funcionality"
   ]
  },
  {
   "cell_type": "code",
   "execution_count": 11,
   "id": "3093f77b",
   "metadata": {},
   "outputs": [],
   "source": [
    "citibike = pd.read_csv('202101_citibike_tripdata.csv')"
   ]
  },
  {
   "cell_type": "code",
   "execution_count": 12,
   "id": "71e00be3",
   "metadata": {},
   "outputs": [
    {
     "data": {
      "text/plain": [
       "(11624, 15)"
      ]
     },
     "execution_count": 12,
     "metadata": {},
     "output_type": "execute_result"
    }
   ],
   "source": [
    "citibike.shape"
   ]
  },
  {
   "cell_type": "code",
   "execution_count": 13,
   "id": "64dc5e31",
   "metadata": {},
   "outputs": [
    {
     "data": {
      "text/html": [
       "<div>\n",
       "<style scoped>\n",
       "    .dataframe tbody tr th:only-of-type {\n",
       "        vertical-align: middle;\n",
       "    }\n",
       "\n",
       "    .dataframe tbody tr th {\n",
       "        vertical-align: top;\n",
       "    }\n",
       "\n",
       "    .dataframe thead th {\n",
       "        text-align: right;\n",
       "    }\n",
       "</style>\n",
       "<table border=\"1\" class=\"dataframe\">\n",
       "  <thead>\n",
       "    <tr style=\"text-align: right;\">\n",
       "      <th></th>\n",
       "      <th>tripduration</th>\n",
       "      <th>starttime</th>\n",
       "      <th>stoptime</th>\n",
       "      <th>start station id</th>\n",
       "      <th>start station name</th>\n",
       "      <th>start station latitude</th>\n",
       "      <th>start station longitude</th>\n",
       "      <th>end station id</th>\n",
       "      <th>end station name</th>\n",
       "      <th>end station latitude</th>\n",
       "      <th>end station longitude</th>\n",
       "      <th>bikeid</th>\n",
       "      <th>usertype</th>\n",
       "      <th>birth year</th>\n",
       "      <th>gender</th>\n",
       "    </tr>\n",
       "  </thead>\n",
       "  <tbody>\n",
       "    <tr>\n",
       "      <th>0</th>\n",
       "      <td>266</td>\n",
       "      <td>2021-01-01 00:03:35.5100</td>\n",
       "      <td>2021-01-01 00:08:01.7770</td>\n",
       "      <td>3273</td>\n",
       "      <td>Manila &amp; 1st</td>\n",
       "      <td>40.721651</td>\n",
       "      <td>-74.042884</td>\n",
       "      <td>3209</td>\n",
       "      <td>Brunswick St</td>\n",
       "      <td>40.724176</td>\n",
       "      <td>-74.050656</td>\n",
       "      <td>42494</td>\n",
       "      <td>Subscriber</td>\n",
       "      <td>1988</td>\n",
       "      <td>1</td>\n",
       "    </tr>\n",
       "    <tr>\n",
       "      <th>1</th>\n",
       "      <td>1543</td>\n",
       "      <td>2021-01-01 00:23:32.9250</td>\n",
       "      <td>2021-01-01 00:49:16.0830</td>\n",
       "      <td>3681</td>\n",
       "      <td>Grand St</td>\n",
       "      <td>40.715178</td>\n",
       "      <td>-74.037683</td>\n",
       "      <td>3213</td>\n",
       "      <td>Van Vorst Park</td>\n",
       "      <td>40.718489</td>\n",
       "      <td>-74.047727</td>\n",
       "      <td>45343</td>\n",
       "      <td>Customer</td>\n",
       "      <td>1996</td>\n",
       "      <td>2</td>\n",
       "    </tr>\n",
       "    <tr>\n",
       "      <th>2</th>\n",
       "      <td>1461</td>\n",
       "      <td>2021-01-01 00:23:50.7940</td>\n",
       "      <td>2021-01-01 00:48:12.5660</td>\n",
       "      <td>3681</td>\n",
       "      <td>Grand St</td>\n",
       "      <td>40.715178</td>\n",
       "      <td>-74.037683</td>\n",
       "      <td>3213</td>\n",
       "      <td>Van Vorst Park</td>\n",
       "      <td>40.718489</td>\n",
       "      <td>-74.047727</td>\n",
       "      <td>31794</td>\n",
       "      <td>Customer</td>\n",
       "      <td>1995</td>\n",
       "      <td>1</td>\n",
       "    </tr>\n",
       "    <tr>\n",
       "      <th>3</th>\n",
       "      <td>793</td>\n",
       "      <td>2021-01-01 00:31:09.0770</td>\n",
       "      <td>2021-01-01 00:44:22.9430</td>\n",
       "      <td>3185</td>\n",
       "      <td>City Hall</td>\n",
       "      <td>40.717732</td>\n",
       "      <td>-74.043845</td>\n",
       "      <td>3199</td>\n",
       "      <td>Newport Pkwy</td>\n",
       "      <td>40.728745</td>\n",
       "      <td>-74.032108</td>\n",
       "      <td>42316</td>\n",
       "      <td>Customer</td>\n",
       "      <td>1969</td>\n",
       "      <td>0</td>\n",
       "    </tr>\n",
       "    <tr>\n",
       "      <th>4</th>\n",
       "      <td>596</td>\n",
       "      <td>2021-01-01 00:35:52.1900</td>\n",
       "      <td>2021-01-01 00:45:48.7740</td>\n",
       "      <td>3639</td>\n",
       "      <td>Harborside</td>\n",
       "      <td>40.719252</td>\n",
       "      <td>-74.034234</td>\n",
       "      <td>3209</td>\n",
       "      <td>Brunswick St</td>\n",
       "      <td>40.724176</td>\n",
       "      <td>-74.050656</td>\n",
       "      <td>32575</td>\n",
       "      <td>Customer</td>\n",
       "      <td>1969</td>\n",
       "      <td>0</td>\n",
       "    </tr>\n",
       "  </tbody>\n",
       "</table>\n",
       "</div>"
      ],
      "text/plain": [
       "   tripduration                 starttime                  stoptime  \\\n",
       "0           266  2021-01-01 00:03:35.5100  2021-01-01 00:08:01.7770   \n",
       "1          1543  2021-01-01 00:23:32.9250  2021-01-01 00:49:16.0830   \n",
       "2          1461  2021-01-01 00:23:50.7940  2021-01-01 00:48:12.5660   \n",
       "3           793  2021-01-01 00:31:09.0770  2021-01-01 00:44:22.9430   \n",
       "4           596  2021-01-01 00:35:52.1900  2021-01-01 00:45:48.7740   \n",
       "\n",
       "   start station id start station name  start station latitude  \\\n",
       "0              3273       Manila & 1st               40.721651   \n",
       "1              3681           Grand St               40.715178   \n",
       "2              3681           Grand St               40.715178   \n",
       "3              3185          City Hall               40.717732   \n",
       "4              3639         Harborside               40.719252   \n",
       "\n",
       "   start station longitude  end station id end station name  \\\n",
       "0               -74.042884            3209     Brunswick St   \n",
       "1               -74.037683            3213   Van Vorst Park   \n",
       "2               -74.037683            3213   Van Vorst Park   \n",
       "3               -74.043845            3199     Newport Pkwy   \n",
       "4               -74.034234            3209     Brunswick St   \n",
       "\n",
       "   end station latitude  end station longitude  bikeid    usertype  \\\n",
       "0             40.724176             -74.050656   42494  Subscriber   \n",
       "1             40.718489             -74.047727   45343    Customer   \n",
       "2             40.718489             -74.047727   31794    Customer   \n",
       "3             40.728745             -74.032108   42316    Customer   \n",
       "4             40.724176             -74.050656   32575    Customer   \n",
       "\n",
       "   birth year  gender  \n",
       "0        1988       1  \n",
       "1        1996       2  \n",
       "2        1995       1  \n",
       "3        1969       0  \n",
       "4        1969       0  "
      ]
     },
     "execution_count": 13,
     "metadata": {},
     "output_type": "execute_result"
    }
   ],
   "source": [
    "citibike.head()"
   ]
  },
  {
   "cell_type": "code",
   "execution_count": 14,
   "id": "6ab34f76",
   "metadata": {},
   "outputs": [],
   "source": [
    "citibike = citibike[['bikeid','starttime','stoptime','tripduration','start station id',\\\n",
    "              'end station id','start station name','end station name','start station latitude',\\\n",
    "              'start station longitude','end station latitude', \\\n",
    "              'end station longitude', 'usertype','birth year', 'gender']]"
   ]
  },
  {
   "cell_type": "code",
   "execution_count": 15,
   "id": "8e45f3e5",
   "metadata": {},
   "outputs": [
    {
     "data": {
      "text/html": [
       "<div>\n",
       "<style scoped>\n",
       "    .dataframe tbody tr th:only-of-type {\n",
       "        vertical-align: middle;\n",
       "    }\n",
       "\n",
       "    .dataframe tbody tr th {\n",
       "        vertical-align: top;\n",
       "    }\n",
       "\n",
       "    .dataframe thead th {\n",
       "        text-align: right;\n",
       "    }\n",
       "</style>\n",
       "<table border=\"1\" class=\"dataframe\">\n",
       "  <thead>\n",
       "    <tr style=\"text-align: right;\">\n",
       "      <th></th>\n",
       "      <th>bikeid</th>\n",
       "      <th>starttime</th>\n",
       "      <th>stoptime</th>\n",
       "      <th>tripduration</th>\n",
       "      <th>start station id</th>\n",
       "      <th>end station id</th>\n",
       "      <th>start station name</th>\n",
       "      <th>end station name</th>\n",
       "      <th>start station latitude</th>\n",
       "      <th>start station longitude</th>\n",
       "      <th>end station latitude</th>\n",
       "      <th>end station longitude</th>\n",
       "      <th>usertype</th>\n",
       "      <th>birth year</th>\n",
       "      <th>gender</th>\n",
       "    </tr>\n",
       "  </thead>\n",
       "  <tbody>\n",
       "    <tr>\n",
       "      <th>0</th>\n",
       "      <td>42494</td>\n",
       "      <td>2021-01-01 00:03:35.5100</td>\n",
       "      <td>2021-01-01 00:08:01.7770</td>\n",
       "      <td>266</td>\n",
       "      <td>3273</td>\n",
       "      <td>3209</td>\n",
       "      <td>Manila &amp; 1st</td>\n",
       "      <td>Brunswick St</td>\n",
       "      <td>40.721651</td>\n",
       "      <td>-74.042884</td>\n",
       "      <td>40.724176</td>\n",
       "      <td>-74.050656</td>\n",
       "      <td>Subscriber</td>\n",
       "      <td>1988</td>\n",
       "      <td>1</td>\n",
       "    </tr>\n",
       "    <tr>\n",
       "      <th>1</th>\n",
       "      <td>45343</td>\n",
       "      <td>2021-01-01 00:23:32.9250</td>\n",
       "      <td>2021-01-01 00:49:16.0830</td>\n",
       "      <td>1543</td>\n",
       "      <td>3681</td>\n",
       "      <td>3213</td>\n",
       "      <td>Grand St</td>\n",
       "      <td>Van Vorst Park</td>\n",
       "      <td>40.715178</td>\n",
       "      <td>-74.037683</td>\n",
       "      <td>40.718489</td>\n",
       "      <td>-74.047727</td>\n",
       "      <td>Customer</td>\n",
       "      <td>1996</td>\n",
       "      <td>2</td>\n",
       "    </tr>\n",
       "    <tr>\n",
       "      <th>2</th>\n",
       "      <td>31794</td>\n",
       "      <td>2021-01-01 00:23:50.7940</td>\n",
       "      <td>2021-01-01 00:48:12.5660</td>\n",
       "      <td>1461</td>\n",
       "      <td>3681</td>\n",
       "      <td>3213</td>\n",
       "      <td>Grand St</td>\n",
       "      <td>Van Vorst Park</td>\n",
       "      <td>40.715178</td>\n",
       "      <td>-74.037683</td>\n",
       "      <td>40.718489</td>\n",
       "      <td>-74.047727</td>\n",
       "      <td>Customer</td>\n",
       "      <td>1995</td>\n",
       "      <td>1</td>\n",
       "    </tr>\n",
       "    <tr>\n",
       "      <th>3</th>\n",
       "      <td>42316</td>\n",
       "      <td>2021-01-01 00:31:09.0770</td>\n",
       "      <td>2021-01-01 00:44:22.9430</td>\n",
       "      <td>793</td>\n",
       "      <td>3185</td>\n",
       "      <td>3199</td>\n",
       "      <td>City Hall</td>\n",
       "      <td>Newport Pkwy</td>\n",
       "      <td>40.717732</td>\n",
       "      <td>-74.043845</td>\n",
       "      <td>40.728745</td>\n",
       "      <td>-74.032108</td>\n",
       "      <td>Customer</td>\n",
       "      <td>1969</td>\n",
       "      <td>0</td>\n",
       "    </tr>\n",
       "    <tr>\n",
       "      <th>4</th>\n",
       "      <td>32575</td>\n",
       "      <td>2021-01-01 00:35:52.1900</td>\n",
       "      <td>2021-01-01 00:45:48.7740</td>\n",
       "      <td>596</td>\n",
       "      <td>3639</td>\n",
       "      <td>3209</td>\n",
       "      <td>Harborside</td>\n",
       "      <td>Brunswick St</td>\n",
       "      <td>40.719252</td>\n",
       "      <td>-74.034234</td>\n",
       "      <td>40.724176</td>\n",
       "      <td>-74.050656</td>\n",
       "      <td>Customer</td>\n",
       "      <td>1969</td>\n",
       "      <td>0</td>\n",
       "    </tr>\n",
       "    <tr>\n",
       "      <th>...</th>\n",
       "      <td>...</td>\n",
       "      <td>...</td>\n",
       "      <td>...</td>\n",
       "      <td>...</td>\n",
       "      <td>...</td>\n",
       "      <td>...</td>\n",
       "      <td>...</td>\n",
       "      <td>...</td>\n",
       "      <td>...</td>\n",
       "      <td>...</td>\n",
       "      <td>...</td>\n",
       "      <td>...</td>\n",
       "      <td>...</td>\n",
       "      <td>...</td>\n",
       "      <td>...</td>\n",
       "    </tr>\n",
       "    <tr>\n",
       "      <th>11619</th>\n",
       "      <td>44852</td>\n",
       "      <td>2021-01-31 20:16:05.4700</td>\n",
       "      <td>2021-01-31 20:57:22.0110</td>\n",
       "      <td>2476</td>\n",
       "      <td>3187</td>\n",
       "      <td>3483</td>\n",
       "      <td>Warren St</td>\n",
       "      <td>Montgomery St</td>\n",
       "      <td>40.721124</td>\n",
       "      <td>-74.038051</td>\n",
       "      <td>40.719420</td>\n",
       "      <td>-74.050990</td>\n",
       "      <td>Subscriber</td>\n",
       "      <td>1958</td>\n",
       "      <td>1</td>\n",
       "    </tr>\n",
       "    <tr>\n",
       "      <th>11620</th>\n",
       "      <td>46538</td>\n",
       "      <td>2021-01-31 21:05:05.2090</td>\n",
       "      <td>2021-01-31 21:07:32.8660</td>\n",
       "      <td>147</td>\n",
       "      <td>3186</td>\n",
       "      <td>3187</td>\n",
       "      <td>Grove St PATH</td>\n",
       "      <td>Warren St</td>\n",
       "      <td>40.719586</td>\n",
       "      <td>-74.043117</td>\n",
       "      <td>40.721124</td>\n",
       "      <td>-74.038051</td>\n",
       "      <td>Subscriber</td>\n",
       "      <td>1972</td>\n",
       "      <td>1</td>\n",
       "    </tr>\n",
       "    <tr>\n",
       "      <th>11621</th>\n",
       "      <td>44398</td>\n",
       "      <td>2021-01-31 21:06:23.5880</td>\n",
       "      <td>2021-01-31 21:17:23.8420</td>\n",
       "      <td>660</td>\n",
       "      <td>3211</td>\n",
       "      <td>3276</td>\n",
       "      <td>Newark Ave</td>\n",
       "      <td>Marin Light Rail</td>\n",
       "      <td>40.721525</td>\n",
       "      <td>-74.046305</td>\n",
       "      <td>40.714584</td>\n",
       "      <td>-74.042817</td>\n",
       "      <td>Subscriber</td>\n",
       "      <td>1987</td>\n",
       "      <td>2</td>\n",
       "    </tr>\n",
       "    <tr>\n",
       "      <th>11622</th>\n",
       "      <td>41400</td>\n",
       "      <td>2021-01-31 21:16:37.8220</td>\n",
       "      <td>2021-01-31 21:23:02.1240</td>\n",
       "      <td>384</td>\n",
       "      <td>3205</td>\n",
       "      <td>3268</td>\n",
       "      <td>JC Medical Center</td>\n",
       "      <td>Lafayette Park</td>\n",
       "      <td>40.716540</td>\n",
       "      <td>-74.049638</td>\n",
       "      <td>40.713464</td>\n",
       "      <td>-74.062859</td>\n",
       "      <td>Subscriber</td>\n",
       "      <td>1989</td>\n",
       "      <td>1</td>\n",
       "    </tr>\n",
       "    <tr>\n",
       "      <th>11623</th>\n",
       "      <td>43766</td>\n",
       "      <td>2021-01-31 23:24:50.8810</td>\n",
       "      <td>2021-01-31 23:30:47.3030</td>\n",
       "      <td>356</td>\n",
       "      <td>3639</td>\n",
       "      <td>3186</td>\n",
       "      <td>Harborside</td>\n",
       "      <td>Grove St PATH</td>\n",
       "      <td>40.719252</td>\n",
       "      <td>-74.034234</td>\n",
       "      <td>40.719586</td>\n",
       "      <td>-74.043117</td>\n",
       "      <td>Subscriber</td>\n",
       "      <td>1994</td>\n",
       "      <td>1</td>\n",
       "    </tr>\n",
       "  </tbody>\n",
       "</table>\n",
       "<p>11624 rows × 15 columns</p>\n",
       "</div>"
      ],
      "text/plain": [
       "       bikeid                 starttime                  stoptime  \\\n",
       "0       42494  2021-01-01 00:03:35.5100  2021-01-01 00:08:01.7770   \n",
       "1       45343  2021-01-01 00:23:32.9250  2021-01-01 00:49:16.0830   \n",
       "2       31794  2021-01-01 00:23:50.7940  2021-01-01 00:48:12.5660   \n",
       "3       42316  2021-01-01 00:31:09.0770  2021-01-01 00:44:22.9430   \n",
       "4       32575  2021-01-01 00:35:52.1900  2021-01-01 00:45:48.7740   \n",
       "...       ...                       ...                       ...   \n",
       "11619   44852  2021-01-31 20:16:05.4700  2021-01-31 20:57:22.0110   \n",
       "11620   46538  2021-01-31 21:05:05.2090  2021-01-31 21:07:32.8660   \n",
       "11621   44398  2021-01-31 21:06:23.5880  2021-01-31 21:17:23.8420   \n",
       "11622   41400  2021-01-31 21:16:37.8220  2021-01-31 21:23:02.1240   \n",
       "11623   43766  2021-01-31 23:24:50.8810  2021-01-31 23:30:47.3030   \n",
       "\n",
       "       tripduration  start station id  end station id start station name  \\\n",
       "0               266              3273            3209       Manila & 1st   \n",
       "1              1543              3681            3213           Grand St   \n",
       "2              1461              3681            3213           Grand St   \n",
       "3               793              3185            3199          City Hall   \n",
       "4               596              3639            3209         Harborside   \n",
       "...             ...               ...             ...                ...   \n",
       "11619          2476              3187            3483          Warren St   \n",
       "11620           147              3186            3187      Grove St PATH   \n",
       "11621           660              3211            3276         Newark Ave   \n",
       "11622           384              3205            3268  JC Medical Center   \n",
       "11623           356              3639            3186         Harborside   \n",
       "\n",
       "       end station name  start station latitude  start station longitude  \\\n",
       "0          Brunswick St               40.721651               -74.042884   \n",
       "1        Van Vorst Park               40.715178               -74.037683   \n",
       "2        Van Vorst Park               40.715178               -74.037683   \n",
       "3          Newport Pkwy               40.717732               -74.043845   \n",
       "4          Brunswick St               40.719252               -74.034234   \n",
       "...                 ...                     ...                      ...   \n",
       "11619     Montgomery St               40.721124               -74.038051   \n",
       "11620         Warren St               40.719586               -74.043117   \n",
       "11621  Marin Light Rail               40.721525               -74.046305   \n",
       "11622    Lafayette Park               40.716540               -74.049638   \n",
       "11623     Grove St PATH               40.719252               -74.034234   \n",
       "\n",
       "       end station latitude  end station longitude    usertype  birth year  \\\n",
       "0                 40.724176             -74.050656  Subscriber        1988   \n",
       "1                 40.718489             -74.047727    Customer        1996   \n",
       "2                 40.718489             -74.047727    Customer        1995   \n",
       "3                 40.728745             -74.032108    Customer        1969   \n",
       "4                 40.724176             -74.050656    Customer        1969   \n",
       "...                     ...                    ...         ...         ...   \n",
       "11619             40.719420             -74.050990  Subscriber        1958   \n",
       "11620             40.721124             -74.038051  Subscriber        1972   \n",
       "11621             40.714584             -74.042817  Subscriber        1987   \n",
       "11622             40.713464             -74.062859  Subscriber        1989   \n",
       "11623             40.719586             -74.043117  Subscriber        1994   \n",
       "\n",
       "       gender  \n",
       "0           1  \n",
       "1           2  \n",
       "2           1  \n",
       "3           0  \n",
       "4           0  \n",
       "...       ...  \n",
       "11619       1  \n",
       "11620       1  \n",
       "11621       2  \n",
       "11622       1  \n",
       "11623       1  \n",
       "\n",
       "[11624 rows x 15 columns]"
      ]
     },
     "execution_count": 15,
     "metadata": {},
     "output_type": "execute_result"
    }
   ],
   "source": [
    "citibike"
   ]
  },
  {
   "cell_type": "code",
   "execution_count": 16,
   "id": "04fb8681",
   "metadata": {},
   "outputs": [],
   "source": [
    "citibike=citibike.sort_values(by=['bikeid','starttime'])"
   ]
  },
  {
   "cell_type": "code",
   "execution_count": 17,
   "id": "2b221806",
   "metadata": {},
   "outputs": [
    {
     "data": {
      "text/html": [
       "<div>\n",
       "<style scoped>\n",
       "    .dataframe tbody tr th:only-of-type {\n",
       "        vertical-align: middle;\n",
       "    }\n",
       "\n",
       "    .dataframe tbody tr th {\n",
       "        vertical-align: top;\n",
       "    }\n",
       "\n",
       "    .dataframe thead th {\n",
       "        text-align: right;\n",
       "    }\n",
       "</style>\n",
       "<table border=\"1\" class=\"dataframe\">\n",
       "  <thead>\n",
       "    <tr style=\"text-align: right;\">\n",
       "      <th></th>\n",
       "      <th>bikeid</th>\n",
       "      <th>starttime</th>\n",
       "      <th>stoptime</th>\n",
       "      <th>tripduration</th>\n",
       "      <th>start station id</th>\n",
       "      <th>end station id</th>\n",
       "      <th>start station name</th>\n",
       "      <th>end station name</th>\n",
       "      <th>start station latitude</th>\n",
       "      <th>start station longitude</th>\n",
       "      <th>end station latitude</th>\n",
       "      <th>end station longitude</th>\n",
       "      <th>usertype</th>\n",
       "      <th>birth year</th>\n",
       "      <th>gender</th>\n",
       "    </tr>\n",
       "  </thead>\n",
       "  <tbody>\n",
       "    <tr>\n",
       "      <th>21</th>\n",
       "      <td>19209</td>\n",
       "      <td>2021-01-01 03:10:49.0690</td>\n",
       "      <td>2021-01-01 03:57:22.1680</td>\n",
       "      <td>2793</td>\n",
       "      <td>3638</td>\n",
       "      <td>3198</td>\n",
       "      <td>Washington St</td>\n",
       "      <td>Heights Elevator</td>\n",
       "      <td>40.724294</td>\n",
       "      <td>-74.035483</td>\n",
       "      <td>40.748716</td>\n",
       "      <td>-74.040443</td>\n",
       "      <td>Customer</td>\n",
       "      <td>1969</td>\n",
       "      <td>0</td>\n",
       "    </tr>\n",
       "    <tr>\n",
       "      <th>332</th>\n",
       "      <td>19209</td>\n",
       "      <td>2021-01-02 12:01:57.9270</td>\n",
       "      <td>2021-01-02 12:13:52.5570</td>\n",
       "      <td>714</td>\n",
       "      <td>3198</td>\n",
       "      <td>3209</td>\n",
       "      <td>Heights Elevator</td>\n",
       "      <td>Brunswick St</td>\n",
       "      <td>40.748716</td>\n",
       "      <td>-74.040443</td>\n",
       "      <td>40.724176</td>\n",
       "      <td>-74.050656</td>\n",
       "      <td>Customer</td>\n",
       "      <td>1994</td>\n",
       "      <td>1</td>\n",
       "    </tr>\n",
       "    <tr>\n",
       "      <th>625</th>\n",
       "      <td>19209</td>\n",
       "      <td>2021-01-02 17:16:02.3130</td>\n",
       "      <td>2021-01-02 17:24:27.5000</td>\n",
       "      <td>505</td>\n",
       "      <td>3209</td>\n",
       "      <td>3209</td>\n",
       "      <td>Brunswick St</td>\n",
       "      <td>Brunswick St</td>\n",
       "      <td>40.724176</td>\n",
       "      <td>-74.050656</td>\n",
       "      <td>40.724176</td>\n",
       "      <td>-74.050656</td>\n",
       "      <td>Subscriber</td>\n",
       "      <td>1988</td>\n",
       "      <td>2</td>\n",
       "    </tr>\n",
       "    <tr>\n",
       "      <th>743</th>\n",
       "      <td>19209</td>\n",
       "      <td>2021-01-03 11:10:56.2960</td>\n",
       "      <td>2021-01-03 11:14:17.1260</td>\n",
       "      <td>200</td>\n",
       "      <td>3209</td>\n",
       "      <td>3186</td>\n",
       "      <td>Brunswick St</td>\n",
       "      <td>Grove St PATH</td>\n",
       "      <td>40.724176</td>\n",
       "      <td>-74.050656</td>\n",
       "      <td>40.719586</td>\n",
       "      <td>-74.043117</td>\n",
       "      <td>Subscriber</td>\n",
       "      <td>1984</td>\n",
       "      <td>1</td>\n",
       "    </tr>\n",
       "    <tr>\n",
       "      <th>838</th>\n",
       "      <td>19209</td>\n",
       "      <td>2021-01-03 16:58:54.6270</td>\n",
       "      <td>2021-01-03 17:12:03.6720</td>\n",
       "      <td>789</td>\n",
       "      <td>3186</td>\n",
       "      <td>3192</td>\n",
       "      <td>Grove St PATH</td>\n",
       "      <td>Liberty Light Rail</td>\n",
       "      <td>40.719586</td>\n",
       "      <td>-74.043117</td>\n",
       "      <td>40.711242</td>\n",
       "      <td>-74.055701</td>\n",
       "      <td>Customer</td>\n",
       "      <td>1994</td>\n",
       "      <td>1</td>\n",
       "    </tr>\n",
       "  </tbody>\n",
       "</table>\n",
       "</div>"
      ],
      "text/plain": [
       "     bikeid                 starttime                  stoptime  tripduration  \\\n",
       "21    19209  2021-01-01 03:10:49.0690  2021-01-01 03:57:22.1680          2793   \n",
       "332   19209  2021-01-02 12:01:57.9270  2021-01-02 12:13:52.5570           714   \n",
       "625   19209  2021-01-02 17:16:02.3130  2021-01-02 17:24:27.5000           505   \n",
       "743   19209  2021-01-03 11:10:56.2960  2021-01-03 11:14:17.1260           200   \n",
       "838   19209  2021-01-03 16:58:54.6270  2021-01-03 17:12:03.6720           789   \n",
       "\n",
       "     start station id  end station id start station name    end station name  \\\n",
       "21               3638            3198      Washington St    Heights Elevator   \n",
       "332              3198            3209   Heights Elevator        Brunswick St   \n",
       "625              3209            3209       Brunswick St        Brunswick St   \n",
       "743              3209            3186       Brunswick St       Grove St PATH   \n",
       "838              3186            3192      Grove St PATH  Liberty Light Rail   \n",
       "\n",
       "     start station latitude  start station longitude  end station latitude  \\\n",
       "21                40.724294               -74.035483             40.748716   \n",
       "332               40.748716               -74.040443             40.724176   \n",
       "625               40.724176               -74.050656             40.724176   \n",
       "743               40.724176               -74.050656             40.719586   \n",
       "838               40.719586               -74.043117             40.711242   \n",
       "\n",
       "     end station longitude    usertype  birth year  gender  \n",
       "21              -74.040443    Customer        1969       0  \n",
       "332             -74.050656    Customer        1994       1  \n",
       "625             -74.050656  Subscriber        1988       2  \n",
       "743             -74.043117  Subscriber        1984       1  \n",
       "838             -74.055701    Customer        1994       1  "
      ]
     },
     "execution_count": 17,
     "metadata": {},
     "output_type": "execute_result"
    }
   ],
   "source": [
    "citibike.head()"
   ]
  },
  {
   "cell_type": "code",
   "execution_count": 18,
   "id": "8483c4ed",
   "metadata": {},
   "outputs": [
    {
     "data": {
      "image/png": "[encoded data removed]",
      "text/plain": [
       "<Figure size 720x360 with 1 Axes>"
      ]
     },
     "metadata": {
      "needs_background": "light"
     },
     "output_type": "display_data"
    }
   ],
   "source": [
    "#Trip by minutes; it seems like most trip are happening under 10 minutes\n",
    "citibike['tripminutes'] = citibike['tripduration'] // 60\n",
    "sns.displot(data=citibike,x=\"tripminutes\", bins=range(1,61), aspect=10/5);"
   ]
  },
  {
   "cell_type": "code",
   "execution_count": 19,
   "id": "a878dc09",
   "metadata": {},
   "outputs": [],
   "source": [
    "citibike['starttime'] = pd.to_datetime(citibike['starttime'])\n",
    "citibike['stoptime'] = pd.to_datetime(citibike['stoptime'])"
   ]
  },
  {
   "cell_type": "code",
   "execution_count": 20,
   "id": "ec9104a4",
   "metadata": {},
   "outputs": [],
   "source": [
    "#Hours when bike are taken\n",
    "citibike['start hour']=citibike['starttime'].dt.hour\n",
    "citibike['start day']=citibike['starttime'].dt.day\n",
    "citibike['weekday']=citibike['starttime'].dt.weekday"
   ]
  },
  {
   "cell_type": "code",
   "execution_count": 21,
   "id": "c8664e39",
   "metadata": {},
   "outputs": [
    {
     "data": {
      "image/png": "[encoded data removed]",
      "text/plain": [
       "<Figure size 864x360 with 1 Axes>"
      ]
     },
     "metadata": {
      "needs_background": "light"
     },
     "output_type": "display_data"
    }
   ],
   "source": [
    "#This was during the pandemic, so a lot of people weren't taken bike in the morning hour compare to 2019\n",
    "plt.figure(figsize=(12,5))\n",
    "sns.countplot(data=citibike, x=\"start hour\" ) ;"
   ]
  },
  {
   "cell_type": "code",
   "execution_count": 22,
   "id": "11dc95fe",
   "metadata": {},
   "outputs": [
    {
     "data": {
      "image/png": "[encoded data removed]",
      "text/plain": [
       "<Figure size 864x720 with 1 Axes>"
      ]
     },
     "metadata": {
      "needs_background": "light"
     },
     "output_type": "display_data"
    }
   ],
   "source": [
    "#Ridership by station name\n",
    "startstation = citibike['start station name'].value_counts()[:20]\n",
    "plt.figure(figsize=(12,10))\n",
    "sns.barplot( x=startstation.values , y=list(startstation.index), \n",
    " orient=\"h\"  ) ;"
   ]
  },
  {
   "cell_type": "code",
   "execution_count": 23,
   "id": "888e5c92",
   "metadata": {},
   "outputs": [
    {
     "data": {
      "image/png": "[encoded data removed]",
      "text/plain": [
       "<Figure size 720x360 with 1 Axes>"
      ]
     },
     "metadata": {
      "needs_background": "light"
     },
     "output_type": "display_data"
    }
   ],
   "source": [
    "#Ridership by age\n",
    "sns.displot(data=citibike, x=\"birth year\" , bins=range(1946,2004),  aspect=10/5) ;"
   ]
  },
  {
   "cell_type": "code",
   "execution_count": 26,
   "id": "aebc4b04",
   "metadata": {},
   "outputs": [],
   "source": [
    "#Replacing empty space in column with underscore _\n",
    "citibike.columns = [x.replace(' ','_') for x in citibike.columns]"
   ]
  },
  {
   "cell_type": "code",
   "execution_count": 27,
   "id": "7d601c78",
   "metadata": {},
   "outputs": [
    {
     "data": {
      "text/plain": [
       "Index(['bikeid', 'starttime', 'stoptime', 'tripduration', 'start_station_id',\n",
       "       'end_station_id', 'start_station_name', 'end_station_name',\n",
       "       'start_station_latitude', 'start_station_longitude',\n",
       "       'end_station_latitude', 'end_station_longitude', 'usertype',\n",
       "       'birth_year', 'gender', 'tripminutes', 'start_hour', 'start_day',\n",
       "       'weekday'],\n",
       "      dtype='object')"
      ]
     },
     "execution_count": 27,
     "metadata": {},
     "output_type": "execute_result"
    }
   ],
   "source": [
    "citibike.columns"
   ]
  },
  {
   "cell_type": "code",
   "execution_count": 102,
   "id": "dae2454e",
   "metadata": {},
   "outputs": [],
   "source": [
    "#Station Capacity\n",
    "url = 'https://gbfs.citibikenyc.com/gbfs/en/station_information.json'"
   ]
  },
  {
   "cell_type": "code",
   "execution_count": 74,
   "id": "afb689f7",
   "metadata": {},
   "outputs": [],
   "source": [
    "data = urllib.urlopen(url).read().decode('utf-8')\n",
    "data = json.loads(data)"
   ]
  },
  {
   "cell_type": "code",
   "execution_count": 92,
   "id": "3fbe1bbb",
   "metadata": {},
   "outputs": [],
   "source": [
    "data = pd.DataFrame(data)"
   ]
  },
  {
   "cell_type": "code",
   "execution_count": 94,
   "id": "09d52eae",
   "metadata": {},
   "outputs": [
    {
     "data": {
      "text/plain": [
       "(1625, 16)"
      ]
     },
     "execution_count": 94,
     "metadata": {},
     "output_type": "execute_result"
    }
   ],
   "source": [
    "data.shape"
   ]
  },
  {
   "cell_type": "code",
   "execution_count": 95,
   "id": "d6e90b23",
   "metadata": {},
   "outputs": [
    {
     "data": {
      "text/plain": [
       "Index(['rental_uris', 'eightd_has_key_dispenser', 'station_id', 'legacy_id',\n",
       "       'eightd_station_services', 'rental_methods', 'region_id', 'has_kiosk',\n",
       "       'short_name', 'name', 'station_type', 'lat', 'capacity', 'external_id',\n",
       "       'lon', 'electric_bike_surcharge_waiver'],\n",
       "      dtype='object')"
      ]
     },
     "execution_count": 95,
     "metadata": {},
     "output_type": "execute_result"
    }
   ],
   "source": [
    "data.columns"
   ]
  },
  {
   "cell_type": "code",
   "execution_count": 99,
   "id": "ccf5a633",
   "metadata": {},
   "outputs": [],
   "source": [
    "data = data [['station_id','name','lat','lon', 'capacity']]"
   ]
  },
  {
   "cell_type": "code",
   "execution_count": 119,
   "id": "bb9d64cd",
   "metadata": {},
   "outputs": [
    {
     "data": {
      "text/plain": [
       "(1625,)"
      ]
     },
     "execution_count": 119,
     "metadata": {},
     "output_type": "execute_result"
    }
   ],
   "source": [
    "#This is the number of stations across NEw York City\n",
    "data['station_id'].shape"
   ]
  },
  {
   "cell_type": "code",
   "execution_count": 108,
   "id": "873465e4",
   "metadata": {},
   "outputs": [],
   "source": [
    "data.to_csv('citibike_capacity.csv', index=False)"
   ]
  }
 ],
 "metadata": {
  "kernelspec": {
   "display_name": "Python 3 (ipykernel)",
   "language": "python",
   "name": "python3"
  },
  "language_info": {
   "codemirror_mode": {
    "name": "ipython",
    "version": 3
   },
   "file_extension": ".py",
   "mimetype": "text/x-python",
   "name": "python",
   "nbconvert_exporter": "python",
   "pygments_lexer": "ipython3",
   "version": "3.8.12"
  }
 },
 "nbformat": 4,
 "nbformat_minor": 5
}
